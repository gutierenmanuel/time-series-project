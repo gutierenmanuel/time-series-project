{
 "cells": [
  {
   "cell_type": "markdown",
   "metadata": {},
   "source": [
    "## Get the data"
   ]
  },
  {
   "cell_type": "code",
   "execution_count": 1,
   "metadata": {},
   "outputs": [
    {
     "name": "stdout",
     "output_type": "stream",
     "text": [
      "El archivo sales.csv ya existe en la carpeta local.\n"
     ]
    }
   ],
   "source": [
    "import utils\n",
    "\n",
    "URL_DATA = 'https://raw.githubusercontent.com/4GeeksAcademy/alternative-time-series-project/main/sales.csv'\n",
    "ROUTE_DATA='../data/raw'\n",
    "\n",
    "utils.descargar_archivo(URL_DATA, ROUTE_DATA)\n"
   ]
  },
  {
   "cell_type": "code",
   "execution_count": 2,
   "metadata": {},
   "outputs": [],
   "source": [
    "#Importamos y guardamos el dataframe\n",
    "\n",
    "import pandas as pd\n",
    "\n",
    "RUTA_DATAFRAME = '/media/tr4shhh/Tr4Shhh_FOLDER/Proyects/4geeks/22_Time_series/time-series-project/data/raw/sales.csv'\n",
    "\n",
    "df = pd.read_csv(RUTA_DATAFRAME, sep=',')"
   ]
  },
  {
   "cell_type": "code",
   "execution_count": 3,
   "metadata": {},
   "outputs": [
    {
     "data": {
      "text/html": [
       "<div>\n",
       "<style scoped>\n",
       "    .dataframe tbody tr th:only-of-type {\n",
       "        vertical-align: middle;\n",
       "    }\n",
       "\n",
       "    .dataframe tbody tr th {\n",
       "        vertical-align: top;\n",
       "    }\n",
       "\n",
       "    .dataframe thead th {\n",
       "        text-align: right;\n",
       "    }\n",
       "</style>\n",
       "<table border=\"1\" class=\"dataframe\">\n",
       "  <thead>\n",
       "    <tr style=\"text-align: right;\">\n",
       "      <th></th>\n",
       "      <th>date</th>\n",
       "      <th>sales</th>\n",
       "    </tr>\n",
       "  </thead>\n",
       "  <tbody>\n",
       "    <tr>\n",
       "      <th>0</th>\n",
       "      <td>2022-09-03 17:10:08.079328</td>\n",
       "      <td>55.292157</td>\n",
       "    </tr>\n",
       "    <tr>\n",
       "      <th>1</th>\n",
       "      <td>2022-09-04 17:10:08.079328</td>\n",
       "      <td>53.803211</td>\n",
       "    </tr>\n",
       "    <tr>\n",
       "      <th>2</th>\n",
       "      <td>2022-09-05 17:10:08.079328</td>\n",
       "      <td>58.141693</td>\n",
       "    </tr>\n",
       "    <tr>\n",
       "      <th>3</th>\n",
       "      <td>2022-09-06 17:10:08.079328</td>\n",
       "      <td>64.530899</td>\n",
       "    </tr>\n",
       "    <tr>\n",
       "      <th>4</th>\n",
       "      <td>2022-09-07 17:10:08.079328</td>\n",
       "      <td>66.013633</td>\n",
       "    </tr>\n",
       "    <tr>\n",
       "      <th>...</th>\n",
       "      <td>...</td>\n",
       "      <td>...</td>\n",
       "    </tr>\n",
       "    <tr>\n",
       "      <th>361</th>\n",
       "      <td>2023-08-30 17:10:08.079328</td>\n",
       "      <td>989.600354</td>\n",
       "    </tr>\n",
       "    <tr>\n",
       "      <th>362</th>\n",
       "      <td>2023-08-31 17:10:08.079328</td>\n",
       "      <td>994.987326</td>\n",
       "    </tr>\n",
       "    <tr>\n",
       "      <th>363</th>\n",
       "      <td>2023-09-01 17:10:08.079328</td>\n",
       "      <td>995.814415</td>\n",
       "    </tr>\n",
       "    <tr>\n",
       "      <th>364</th>\n",
       "      <td>2023-09-02 17:10:08.079328</td>\n",
       "      <td>997.350214</td>\n",
       "    </tr>\n",
       "    <tr>\n",
       "      <th>365</th>\n",
       "      <td>2023-09-03 17:10:08.079328</td>\n",
       "      <td>1000.482785</td>\n",
       "    </tr>\n",
       "  </tbody>\n",
       "</table>\n",
       "<p>366 rows × 2 columns</p>\n",
       "</div>"
      ],
      "text/plain": [
       "                           date        sales\n",
       "0    2022-09-03 17:10:08.079328    55.292157\n",
       "1    2022-09-04 17:10:08.079328    53.803211\n",
       "2    2022-09-05 17:10:08.079328    58.141693\n",
       "3    2022-09-06 17:10:08.079328    64.530899\n",
       "4    2022-09-07 17:10:08.079328    66.013633\n",
       "..                          ...          ...\n",
       "361  2023-08-30 17:10:08.079328   989.600354\n",
       "362  2023-08-31 17:10:08.079328   994.987326\n",
       "363  2023-09-01 17:10:08.079328   995.814415\n",
       "364  2023-09-02 17:10:08.079328   997.350214\n",
       "365  2023-09-03 17:10:08.079328  1000.482785\n",
       "\n",
       "[366 rows x 2 columns]"
      ]
     },
     "execution_count": 3,
     "metadata": {},
     "output_type": "execute_result"
    }
   ],
   "source": [
    "df"
   ]
  }
 ],
 "metadata": {
  "kernelspec": {
   "display_name": "venv",
   "language": "python",
   "name": "python3"
  },
  "language_info": {
   "codemirror_mode": {
    "name": "ipython",
    "version": 3
   },
   "file_extension": ".py",
   "mimetype": "text/x-python",
   "name": "python",
   "nbconvert_exporter": "python",
   "pygments_lexer": "ipython3",
   "version": "3.11.4"
  }
 },
 "nbformat": 4,
 "nbformat_minor": 2
}
